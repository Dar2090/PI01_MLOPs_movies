{
  "cells": [
    {
      "attachments": {},
      "cell_type": "markdown",
      "metadata": {},
      "source": [
        "#### Importamos las librerias necesarias para realizar nuetro EDA:"
      ]
    },
    {
      "cell_type": "code",
      "execution_count": null,
      "metadata": {
        "id": "J3qku9fJwTG5"
      },
      "outputs": [],
      "source": [
        "import pandas as pd\n",
        "import numpy as np\n",
        "from sklearn.feature_extraction.text import TfidfVectorizer\n",
        "from sklearn.preprocessing import OneHotEncoder\n",
        "from scipy.sparse import hstack\n",
        "from sklearn.metrics.pairwise import cosine_similarity"
      ]
    },
    {
      "attachments": {},
      "cell_type": "markdown",
      "metadata": {},
      "source": [
        "#### Cargamos el datasets movies_EDA_relevantes.csv, resultado del EDA en un DataFrame, revisamos su estructura y su informacion:"
      ]
    },
    {
      "cell_type": "code",
      "execution_count": null,
      "metadata": {
        "id": "drddq-IlyI25"
      },
      "outputs": [],
      "source": [
        "# Cargar los datos en un DataFrame\n",
        "df = pd.read_csv('movies_EDA_relevantes.csv', low_memory=False)"
      ]
    },
    {
      "cell_type": "code",
      "execution_count": null,
      "metadata": {
        "colab": {
          "base_uri": "https://localhost:8080/",
          "height": 722
        },
        "id": "-QuuIzM2yIzu",
        "outputId": "ddf310f0-b9ce-41d1-dd9b-5969f17ef1d2"
      },
      "outputs": [
        {
          "data": {
            "text/html": [
              "\n",
              "  <div id=\"df-b3c04171-eaea-4b20-9547-19a646f7e495\">\n",
              "    <div class=\"colab-df-container\">\n",
              "      <div>\n",
              "<style scoped>\n",
              "    .dataframe tbody tr th:only-of-type {\n",
              "        vertical-align: middle;\n",
              "    }\n",
              "\n",
              "    .dataframe tbody tr th {\n",
              "        vertical-align: top;\n",
              "    }\n",
              "\n",
              "    .dataframe thead th {\n",
              "        text-align: right;\n",
              "    }\n",
              "</style>\n",
              "<table border=\"1\" class=\"dataframe\">\n",
              "  <thead>\n",
              "    <tr style=\"text-align: right;\">\n",
              "      <th></th>\n",
              "      <th>genres</th>\n",
              "      <th>id</th>\n",
              "      <th>original_language</th>\n",
              "      <th>overview</th>\n",
              "      <th>popularity</th>\n",
              "      <th>production_companies</th>\n",
              "      <th>production_countries</th>\n",
              "      <th>runtime</th>\n",
              "      <th>spoken_languages</th>\n",
              "      <th>title</th>\n",
              "      <th>vote_average</th>\n",
              "      <th>release_year</th>\n",
              "    </tr>\n",
              "  </thead>\n",
              "  <tbody>\n",
              "    <tr>\n",
              "      <th>0</th>\n",
              "      <td>Animation, Comedy, Family</td>\n",
              "      <td>862</td>\n",
              "      <td>en</td>\n",
              "      <td>Led by Woody, Andy's toys live happily in his ...</td>\n",
              "      <td>3.133185</td>\n",
              "      <td>Pixar Animation Studios</td>\n",
              "      <td>United States of America</td>\n",
              "      <td>81.0</td>\n",
              "      <td>English</td>\n",
              "      <td>Toy Story</td>\n",
              "      <td>7.7</td>\n",
              "      <td>7.5989</td>\n",
              "    </tr>\n",
              "    <tr>\n",
              "      <th>1</th>\n",
              "      <td>Adventure, Fantasy, Family</td>\n",
              "      <td>8844</td>\n",
              "      <td>en</td>\n",
              "      <td>When siblings Judy and Peter discover an encha...</td>\n",
              "      <td>2.891235</td>\n",
              "      <td>TriStar Pictures, Teitler Film, Interscope Com...</td>\n",
              "      <td>United States of America</td>\n",
              "      <td>104.0</td>\n",
              "      <td>English, Français</td>\n",
              "      <td>Jumanji</td>\n",
              "      <td>6.9</td>\n",
              "      <td>7.5989</td>\n",
              "    </tr>\n",
              "    <tr>\n",
              "      <th>2</th>\n",
              "      <td>Romance, Comedy</td>\n",
              "      <td>15602</td>\n",
              "      <td>en</td>\n",
              "      <td>A family wedding reignites the ancient feud be...</td>\n",
              "      <td>2.542617</td>\n",
              "      <td>Warner Bros., Lancaster Gate</td>\n",
              "      <td>United States of America</td>\n",
              "      <td>101.0</td>\n",
              "      <td>English</td>\n",
              "      <td>Grumpier Old Men</td>\n",
              "      <td>6.5</td>\n",
              "      <td>7.5989</td>\n",
              "    </tr>\n",
              "    <tr>\n",
              "      <th>3</th>\n",
              "      <td>Comedy, Drama, Romance</td>\n",
              "      <td>31357</td>\n",
              "      <td>en</td>\n",
              "      <td>Cheated on, mistreated and stepped on, the wom...</td>\n",
              "      <td>1.580935</td>\n",
              "      <td>Twentieth Century Fox Film Corporation</td>\n",
              "      <td>United States of America</td>\n",
              "      <td>127.0</td>\n",
              "      <td>English</td>\n",
              "      <td>Waiting to Exhale</td>\n",
              "      <td>6.1</td>\n",
              "      <td>7.5989</td>\n",
              "    </tr>\n",
              "    <tr>\n",
              "      <th>4</th>\n",
              "      <td>Comedy</td>\n",
              "      <td>11862</td>\n",
              "      <td>en</td>\n",
              "      <td>Just when George Banks has recovered from his ...</td>\n",
              "      <td>2.239381</td>\n",
              "      <td>Sandollar Productions, Touchstone Pictures</td>\n",
              "      <td>United States of America</td>\n",
              "      <td>106.0</td>\n",
              "      <td>English</td>\n",
              "      <td>Father of the Bride Part II</td>\n",
              "      <td>5.7</td>\n",
              "      <td>7.5989</td>\n",
              "    </tr>\n",
              "  </tbody>\n",
              "</table>\n",
              "</div>\n",
              "      <button class=\"colab-df-convert\" onclick=\"convertToInteractive('df-b3c04171-eaea-4b20-9547-19a646f7e495')\"\n",
              "              title=\"Convert this dataframe to an interactive table.\"\n",
              "              style=\"display:none;\">\n",
              "        \n",
              "  <svg xmlns=\"http://www.w3.org/2000/svg\" height=\"24px\"viewBox=\"0 0 24 24\"\n",
              "       width=\"24px\">\n",
              "    <path d=\"M0 0h24v24H0V0z\" fill=\"none\"/>\n",
              "    <path d=\"M18.56 5.44l.94 2.06.94-2.06 2.06-.94-2.06-.94-.94-2.06-.94 2.06-2.06.94zm-11 1L8.5 8.5l.94-2.06 2.06-.94-2.06-.94L8.5 2.5l-.94 2.06-2.06.94zm10 10l.94 2.06.94-2.06 2.06-.94-2.06-.94-.94-2.06-.94 2.06-2.06.94z\"/><path d=\"M17.41 7.96l-1.37-1.37c-.4-.4-.92-.59-1.43-.59-.52 0-1.04.2-1.43.59L10.3 9.45l-7.72 7.72c-.78.78-.78 2.05 0 2.83L4 21.41c.39.39.9.59 1.41.59.51 0 1.02-.2 1.41-.59l7.78-7.78 2.81-2.81c.8-.78.8-2.07 0-2.86zM5.41 20L4 18.59l7.72-7.72 1.47 1.35L5.41 20z\"/>\n",
              "  </svg>\n",
              "      </button>\n",
              "      \n",
              "  <style>\n",
              "    .colab-df-container {\n",
              "      display:flex;\n",
              "      flex-wrap:wrap;\n",
              "      gap: 12px;\n",
              "    }\n",
              "\n",
              "    .colab-df-convert {\n",
              "      background-color: #E8F0FE;\n",
              "      border: none;\n",
              "      border-radius: 50%;\n",
              "      cursor: pointer;\n",
              "      display: none;\n",
              "      fill: #1967D2;\n",
              "      height: 32px;\n",
              "      padding: 0 0 0 0;\n",
              "      width: 32px;\n",
              "    }\n",
              "\n",
              "    .colab-df-convert:hover {\n",
              "      background-color: #E2EBFA;\n",
              "      box-shadow: 0px 1px 2px rgba(60, 64, 67, 0.3), 0px 1px 3px 1px rgba(60, 64, 67, 0.15);\n",
              "      fill: #174EA6;\n",
              "    }\n",
              "\n",
              "    [theme=dark] .colab-df-convert {\n",
              "      background-color: #3B4455;\n",
              "      fill: #D2E3FC;\n",
              "    }\n",
              "\n",
              "    [theme=dark] .colab-df-convert:hover {\n",
              "      background-color: #434B5C;\n",
              "      box-shadow: 0px 1px 3px 1px rgba(0, 0, 0, 0.15);\n",
              "      filter: drop-shadow(0px 1px 2px rgba(0, 0, 0, 0.3));\n",
              "      fill: #FFFFFF;\n",
              "    }\n",
              "  </style>\n",
              "\n",
              "      <script>\n",
              "        const buttonEl =\n",
              "          document.querySelector('#df-b3c04171-eaea-4b20-9547-19a646f7e495 button.colab-df-convert');\n",
              "        buttonEl.style.display =\n",
              "          google.colab.kernel.accessAllowed ? 'block' : 'none';\n",
              "\n",
              "        async function convertToInteractive(key) {\n",
              "          const element = document.querySelector('#df-b3c04171-eaea-4b20-9547-19a646f7e495');\n",
              "          const dataTable =\n",
              "            await google.colab.kernel.invokeFunction('convertToInteractive',\n",
              "                                                     [key], {});\n",
              "          if (!dataTable) return;\n",
              "\n",
              "          const docLinkHtml = 'Like what you see? Visit the ' +\n",
              "            '<a target=\"_blank\" href=https://colab.research.google.com/notebooks/data_table.ipynb>data table notebook</a>'\n",
              "            + ' to learn more about interactive tables.';\n",
              "          element.innerHTML = '';\n",
              "          dataTable['output_type'] = 'display_data';\n",
              "          await google.colab.output.renderOutput(dataTable, element);\n",
              "          const docLink = document.createElement('div');\n",
              "          docLink.innerHTML = docLinkHtml;\n",
              "          element.appendChild(docLink);\n",
              "        }\n",
              "      </script>\n",
              "    </div>\n",
              "  </div>\n",
              "  "
            ],
            "text/plain": [
              "                       genres     id original_language  \\\n",
              "0   Animation, Comedy, Family    862                en   \n",
              "1  Adventure, Fantasy, Family   8844                en   \n",
              "2             Romance, Comedy  15602                en   \n",
              "3      Comedy, Drama, Romance  31357                en   \n",
              "4                      Comedy  11862                en   \n",
              "\n",
              "                                            overview  popularity  \\\n",
              "0  Led by Woody, Andy's toys live happily in his ...    3.133185   \n",
              "1  When siblings Judy and Peter discover an encha...    2.891235   \n",
              "2  A family wedding reignites the ancient feud be...    2.542617   \n",
              "3  Cheated on, mistreated and stepped on, the wom...    1.580935   \n",
              "4  Just when George Banks has recovered from his ...    2.239381   \n",
              "\n",
              "                                production_companies  \\\n",
              "0                            Pixar Animation Studios   \n",
              "1  TriStar Pictures, Teitler Film, Interscope Com...   \n",
              "2                       Warner Bros., Lancaster Gate   \n",
              "3             Twentieth Century Fox Film Corporation   \n",
              "4         Sandollar Productions, Touchstone Pictures   \n",
              "\n",
              "       production_countries  runtime   spoken_languages  \\\n",
              "0  United States of America     81.0            English   \n",
              "1  United States of America    104.0  English, Français   \n",
              "2  United States of America    101.0            English   \n",
              "3  United States of America    127.0            English   \n",
              "4  United States of America    106.0            English   \n",
              "\n",
              "                         title  vote_average  release_year  \n",
              "0                    Toy Story           7.7        7.5989  \n",
              "1                      Jumanji           6.9        7.5989  \n",
              "2             Grumpier Old Men           6.5        7.5989  \n",
              "3            Waiting to Exhale           6.1        7.5989  \n",
              "4  Father of the Bride Part II           5.7        7.5989  "
            ]
          },
          "execution_count": 5,
          "metadata": {},
          "output_type": "execute_result"
        }
      ],
      "source": [
        "df.head()"
      ]
    },
    {
      "cell_type": "code",
      "execution_count": null,
      "metadata": {},
      "outputs": [],
      "source": [
        "df.info()"
      ]
    },
    {
      "attachments": {},
      "cell_type": "markdown",
      "metadata": {},
      "source": [
        "#### Planteamos un sistema de recomendación de películas basado en contenido. Reducimos la muestra para asegurar su funcionamiento en el deploy.\n",
        "\n",
        "* Seleccionamos columnas relevantes para el modelo.\n",
        "* Codificación one-hot para la columna 'genres'.\n",
        "* Creación de una matriz de características dispersa para 'overview' utilizando TF-IDF\n",
        "* Concatenamos las matrices de características y las características categóricas\n",
        "* Cálculo de la similitud del coseno entre las características, el resultado es la matriz similarity_matrix que representa la similitud entre todas las películas basada en las características seleccionadas.\n",
        "* Creación del diccionario que mapea el título de la película a su índice en el DataFrame."
      ]
    },
    {
      "cell_type": "code",
      "execution_count": null,
      "metadata": {
        "id": "X3OcXbZZyIRk"
      },
      "outputs": [],
      "source": [
        "# Reducción de la muestra de datos\n",
        "sample_frac = 0.4  # Ejemplo: utilizar el 40% de los datos\n",
        "df_sample = df.sample(frac=sample_frac, random_state=42)\n",
        "\n",
        "# Seleccionar las columnas relevantes\n",
        "relevant_cols = ['title', 'genres', 'original_language', 'overview']\n",
        "\n",
        "# Crear un nuevo DataFrame con las columnas relevantes\n",
        "df_relevant = df_sample[relevant_cols].copy()\n",
        "\n",
        "# Tratar los valores faltantes\n",
        "df_relevant.fillna({'genres': 'Unknown', 'original_language': 'Unknown', 'overview': ''}, inplace=True)\n",
        "\n",
        "# Codificación one-hot para la columna 'genres'\n",
        "one_hot_encoder = OneHotEncoder(sparse_output=False)\n",
        "genres_encoded = one_hot_encoder.fit_transform(df_relevant[['genres']])\n",
        "\n",
        "# Crear una matriz de características dispersa para el resumen (overview) utilizando TF-IDF\n",
        "vectorizer = TfidfVectorizer()\n",
        "overview_features = vectorizer.fit_transform(df_relevant['overview'])\n",
        "\n",
        "# Concatenar las matrices de características y las características categóricas\n",
        "features_matrix = hstack([overview_features, genres_encoded])\n",
        "\n",
        "# Calcular la similitud del coseno entre las características\n",
        "similarity_matrix = cosine_similarity(features_matrix)\n",
        "\n",
        "# Crear un diccionario que mapee el título de la película a su índice en el DataFrame\n",
        "title_to_index = {title: index for index, title in enumerate(df_sample['title'])}\n"
      ]
    },
    {
      "cell_type": "code",
      "execution_count": null,
      "metadata": {
        "id": "4RtuuWHfyIOX"
      },
      "outputs": [],
      "source": [
        "# Generar recomendaciones basadas en el contenido\n",
        "def recomendacion(titulo: str, top_n=5):\n",
        "    # Obtener el índice de la película objetivo\n",
        "    movie_index = title_to_index[titulo]\n",
        "\n",
        "    # Obtener la fila de similitud correspondiente a la película objetivo\n",
        "    similarity_scores = similarity_matrix[movie_index]\n",
        "\n",
        "    # Obtener los índices de las películas más similares\n",
        "    top_indices = similarity_scores.argsort()[::-1][1:top_n+1]\n",
        "\n",
        "    # Obtener los títulos de las películas recomendadas\n",
        "    recommended_movies = df_sample.iloc[top_indices]['title'].values.tolist()\n",
        "\n",
        "    return {'Lista recomendada': recommended_movies}"
      ]
    },
    {
      "cell_type": "code",
      "execution_count": null,
      "metadata": {
        "colab": {
          "base_uri": "https://localhost:8080/"
        },
        "id": "GRXmbXE05XqI",
        "outputId": "a0eb551d-9adb-42c3-8ced-a204e8787f3b"
      },
      "outputs": [
        {
          "data": {
            "text/plain": [
              "17847    I Am My Films: A Portrait of Werner Herzog\n",
              "37343                         We Have Only One Life\n",
              "7690                             The Stepford Wives\n",
              "32216                                   La Habanera\n",
              "13594            Wild Things: Diamonds in the Rough\n",
              "29232                                Monkey Kingdom\n",
              "35373                            Proof of the Devil\n",
              "42371                              The Glass Castle\n",
              "2173                                    Strangeland\n",
              "41392                              City of Dead Men\n",
              "18190                                 Metrobranding\n",
              "6257                               13 Rue Madeleine\n",
              "10070                        The Captain's Paradise\n",
              "41451                        The Over-the-Hill Gang\n",
              "11793                       Godzilla vs. Destoroyah\n",
              "9250                                  My Little Eye\n",
              "12022                                  Mr. Woodcock\n",
              "43160                                    Pet Fooled\n",
              "2819                                         Dr. No\n",
              "4105                                       The Body\n",
              "Name: title, dtype: object"
            ]
          },
          "execution_count": 14,
          "metadata": {},
          "output_type": "execute_result"
        }
      ],
      "source": [
        "df_sample['title'].tail(20)"
      ]
    },
    {
      "cell_type": "code",
      "execution_count": null,
      "metadata": {
        "colab": {
          "base_uri": "https://localhost:8080/"
        },
        "id": "mfX7aY54yIKk",
        "outputId": "c2ff478c-dbb7-403f-97be-32712a5f48b4"
      },
      "outputs": [
        {
          "data": {
            "text/plain": [
              "{'Lista recomendada': ['Toy Story',\n",
              "  'Hop',\n",
              "  'Scooby-Doo! Camp Scare',\n",
              "  \"Bébé's Kids\",\n",
              "  'Lorenzo']}"
            ]
          },
          "execution_count": 15,
          "metadata": {},
          "output_type": "execute_result"
        }
      ],
      "source": [
        "# Generar recomendaciones para una película específica\n",
        "titulo = 'Toy Story 2'\n",
        "recomendacion(titulo)"
      ]
    },
    {
      "attachments": {},
      "cell_type": "markdown",
      "metadata": {},
      "source": [
        "#### Teniendo en cuanta que nuestro modelo solo funciona con tres columnas, vamos a crear un datasets con esas columnas y con el % de los datos asignados, asi evitamos el uso innecesario de recursos:"
      ]
    },
    {
      "cell_type": "code",
      "execution_count": null,
      "metadata": {},
      "outputs": [],
      "source": [
        "# Reducción de la muestra de datos\n",
        "sample_frac = 0.4  # Se utiliza el 40% de los datos del dataset.\n",
        "df_sample = df.sample(frac=sample_frac, random_state=42)\n",
        "\n",
        "# Seleccionar las columnas relevantes\n",
        "relevant_cols = ['title', 'genres', 'overview']\n",
        "\n",
        "# Crear un nuevo DataFrame con las columnas relevantes\n",
        "df_relevant = df_sample[relevant_cols]\n",
        "\n",
        "# Tratar los valores faltantes, si los hubiera\n",
        "df_relevant.fillna({'genres': 'Unknown', 'overview': 'Unknown'}, inplace=True)\n",
        "\n",
        "#Exportamos a csv\n",
        "df_relevant.to_csv('movies_relevantes_ML.csv', index=False)"
      ]
    },
    {
      "attachments": {},
      "cell_type": "markdown",
      "metadata": {},
      "source": [
        "#### Cargamos el nuevo dataset y vemos como se reducen algunas lines de codigo:"
      ]
    },
    {
      "cell_type": "code",
      "execution_count": null,
      "metadata": {
        "id": "xjhCKPgBJSyV"
      },
      "outputs": [],
      "source": [
        "df2 = pd.read_csv('movies_relevantes_ML.csv', low_memory=False)\n",
        "df2.info()"
      ]
    },
    {
      "cell_type": "code",
      "execution_count": null,
      "metadata": {
        "id": "U0nTCvzUJSRS"
      },
      "outputs": [],
      "source": [
        "# Tratar los valores faltantes, si los hubiera\n",
        "df2.fillna({'genres': 'Unknown', 'overview': ''}, inplace=True)\n",
        "\n",
        "# Codificación one-hot para la columna 'genres'\n",
        "one_hot_encoder = OneHotEncoder(sparse_output=False)\n",
        "genres_encoded = one_hot_encoder.fit_transform(df2[['genres']])\n",
        "\n",
        "# Crear una matriz de características dispersa para el resumen (overview) utilizando TF-IDF\n",
        "vectorizer = TfidfVectorizer()\n",
        "overview_features = vectorizer.fit_transform(df2['overview'])\n",
        "\n",
        "# Concatenar las matrices de características y las características categóricas\n",
        "features_matrix = hstack([overview_features, genres_encoded])\n",
        "\n",
        "# Calcular la similitud del coseno entre las características\n",
        "similarity_matrix = cosine_similarity(features_matrix)\n",
        "\n",
        "# Crear un diccionario que mapee el título de la película a su índice en el DataFrame\n",
        "title_to_index = {title: index for index, title in enumerate(df2['title'])}"
      ]
    },
    {
      "cell_type": "code",
      "execution_count": null,
      "metadata": {
        "id": "hvm89lldi0cs"
      },
      "outputs": [],
      "source": [
        "def recomendacion(titulo: str, top_n=5):\n",
        "    # Obtener el índice de la película objetivo\n",
        "    movie_index = title_to_index[titulo]\n",
        "\n",
        "    # Obtener la fila de similitud correspondiente a la película objetivo\n",
        "    similarity_scores = similarity_matrix[movie_index]\n",
        "\n",
        "    # Obtener los índices de las películas más similares\n",
        "    top_indices = similarity_scores.argsort()[::-1][1:top_n+1]\n",
        "\n",
        "    # Obtener los títulos de las películas recomendadas\n",
        "    recommended_movies = df2.iloc[top_indices]['title'].values.tolist()\n",
        "\n",
        "    return {'Lista recomendada': recommended_movies}"
      ]
    },
    {
      "cell_type": "code",
      "execution_count": null,
      "metadata": {
        "colab": {
          "base_uri": "https://localhost:8080/"
        },
        "id": "bQuFMCL4JRuD",
        "outputId": "cc55ac51-236e-4823-9a3f-85c739a7a4b0"
      },
      "outputs": [
        {
          "data": {
            "text/plain": [
              "{'Lista recomendada': ['Toy Story 2',\n",
              "  'A Boy Named Charlie Brown',\n",
              "  'Creature Comforts',\n",
              "  'Barnyard',\n",
              "  'One Froggy Evening']}"
            ]
          },
          "execution_count": 22,
          "metadata": {},
          "output_type": "execute_result"
        }
      ],
      "source": [
        "titulo = 'Toy Story'\n",
        "recomendacion(titulo)"
      ]
    }
  ],
  "metadata": {
    "colab": {
      "provenance": [],
      "toc_visible": true
    },
    "kernelspec": {
      "display_name": "Python 3",
      "name": "python3"
    },
    "language_info": {
      "name": "python",
      "version": "3.8.10"
    }
  },
  "nbformat": 4,
  "nbformat_minor": 0
}
